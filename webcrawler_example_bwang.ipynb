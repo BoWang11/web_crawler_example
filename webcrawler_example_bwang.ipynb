{
 "cells": [
  {
   "cell_type": "code",
   "execution_count": 55,
   "id": "8f5f650c",
   "metadata": {},
   "outputs": [],
   "source": [
    "from bs4 import BeautifulSoup\n",
    "import requests"
   ]
  },
  {
   "cell_type": "code",
   "execution_count": 56,
   "id": "6a9ad61b",
   "metadata": {},
   "outputs": [],
   "source": [
    "url = \"https://www.usinflationcalculator.com/inflation/current-inflation-rates/\"\n",
    "\n",
    "html_content=requests.get(url).text\n",
    "\n",
    "soup=BeautifulSoup(html_content, 'lxml')\n",
    "\n",
    "table=soup.find(\"table\")\n",
    "\n",
    "search1 = []\n",
    "\n",
    "for td in table.find(\"tr\").find_all(\"td\"):\n",
    "    search1.append(td.text)"
   ]
  },
  {
   "cell_type": "code",
   "execution_count": 57,
   "id": "7ece6fa5",
   "metadata": {},
   "outputs": [
    {
     "data": {
      "text/plain": [
       "['Year',\n",
       " 'Jan',\n",
       " 'Feb',\n",
       " 'Mar',\n",
       " 'Apr',\n",
       " 'May',\n",
       " 'Jun',\n",
       " 'Jul',\n",
       " 'Aug',\n",
       " 'Sep',\n",
       " 'Oct',\n",
       " 'Nov',\n",
       " 'Dec',\n",
       " 'Ave']"
      ]
     },
     "execution_count": 57,
     "metadata": {},
     "output_type": "execute_result"
    }
   ],
   "source": [
    "search1"
   ]
  },
  {
   "cell_type": "code",
   "execution_count": 68,
   "id": "ed698d3e",
   "metadata": {},
   "outputs": [],
   "source": [
    "search2 = []\n",
    "\n",
    "for td in soup.find_all('td', {'align': 'right', 'height': '17'}):\n",
    "    search2.append(td.text)"
   ]
  },
  {
   "cell_type": "code",
   "execution_count": 69,
   "id": "8560cc41",
   "metadata": {},
   "outputs": [
    {
     "data": {
      "text/plain": [
       "['Year',\n",
       " '2022',\n",
       " '2021',\n",
       " '2020',\n",
       " '2019',\n",
       " '2018',\n",
       " '2017',\n",
       " '2016',\n",
       " '2015',\n",
       " '2014',\n",
       " '2013',\n",
       " '2012',\n",
       " '2011',\n",
       " '2010',\n",
       " '2009',\n",
       " '2008',\n",
       " '2007',\n",
       " '2006',\n",
       " '2005',\n",
       " '2004',\n",
       " '2003',\n",
       " '2002',\n",
       " '2001',\n",
       " '2000']"
      ]
     },
     "execution_count": 69,
     "metadata": {},
     "output_type": "execute_result"
    }
   ],
   "source": [
    "search2"
   ]
  },
  {
   "cell_type": "code",
   "execution_count": 73,
   "id": "a71ee09d",
   "metadata": {},
   "outputs": [
    {
     "data": {
      "text/html": [
       "<div>\n",
       "<style scoped>\n",
       "    .dataframe tbody tr th:only-of-type {\n",
       "        vertical-align: middle;\n",
       "    }\n",
       "\n",
       "    .dataframe tbody tr th {\n",
       "        vertical-align: top;\n",
       "    }\n",
       "\n",
       "    .dataframe thead th {\n",
       "        text-align: right;\n",
       "    }\n",
       "</style>\n",
       "<table border=\"1\" class=\"dataframe\">\n",
       "  <thead>\n",
       "    <tr style=\"text-align: right;\">\n",
       "      <th></th>\n",
       "      <th>Year</th>\n",
       "    </tr>\n",
       "  </thead>\n",
       "  <tbody>\n",
       "    <tr>\n",
       "      <th>0</th>\n",
       "      <td>2022</td>\n",
       "    </tr>\n",
       "    <tr>\n",
       "      <th>1</th>\n",
       "      <td>2021</td>\n",
       "    </tr>\n",
       "    <tr>\n",
       "      <th>2</th>\n",
       "      <td>2020</td>\n",
       "    </tr>\n",
       "    <tr>\n",
       "      <th>3</th>\n",
       "      <td>2019</td>\n",
       "    </tr>\n",
       "    <tr>\n",
       "      <th>4</th>\n",
       "      <td>2018</td>\n",
       "    </tr>\n",
       "    <tr>\n",
       "      <th>5</th>\n",
       "      <td>2017</td>\n",
       "    </tr>\n",
       "    <tr>\n",
       "      <th>6</th>\n",
       "      <td>2016</td>\n",
       "    </tr>\n",
       "    <tr>\n",
       "      <th>7</th>\n",
       "      <td>2015</td>\n",
       "    </tr>\n",
       "    <tr>\n",
       "      <th>8</th>\n",
       "      <td>2014</td>\n",
       "    </tr>\n",
       "    <tr>\n",
       "      <th>9</th>\n",
       "      <td>2013</td>\n",
       "    </tr>\n",
       "    <tr>\n",
       "      <th>10</th>\n",
       "      <td>2012</td>\n",
       "    </tr>\n",
       "    <tr>\n",
       "      <th>11</th>\n",
       "      <td>2011</td>\n",
       "    </tr>\n",
       "    <tr>\n",
       "      <th>12</th>\n",
       "      <td>2010</td>\n",
       "    </tr>\n",
       "    <tr>\n",
       "      <th>13</th>\n",
       "      <td>2009</td>\n",
       "    </tr>\n",
       "    <tr>\n",
       "      <th>14</th>\n",
       "      <td>2008</td>\n",
       "    </tr>\n",
       "    <tr>\n",
       "      <th>15</th>\n",
       "      <td>2007</td>\n",
       "    </tr>\n",
       "    <tr>\n",
       "      <th>16</th>\n",
       "      <td>2006</td>\n",
       "    </tr>\n",
       "    <tr>\n",
       "      <th>17</th>\n",
       "      <td>2005</td>\n",
       "    </tr>\n",
       "    <tr>\n",
       "      <th>18</th>\n",
       "      <td>2004</td>\n",
       "    </tr>\n",
       "    <tr>\n",
       "      <th>19</th>\n",
       "      <td>2003</td>\n",
       "    </tr>\n",
       "    <tr>\n",
       "      <th>20</th>\n",
       "      <td>2002</td>\n",
       "    </tr>\n",
       "    <tr>\n",
       "      <th>21</th>\n",
       "      <td>2001</td>\n",
       "    </tr>\n",
       "    <tr>\n",
       "      <th>22</th>\n",
       "      <td>2000</td>\n",
       "    </tr>\n",
       "  </tbody>\n",
       "</table>\n",
       "</div>"
      ],
      "text/plain": [
       "    Year\n",
       "0   2022\n",
       "1   2021\n",
       "2   2020\n",
       "3   2019\n",
       "4   2018\n",
       "5   2017\n",
       "6   2016\n",
       "7   2015\n",
       "8   2014\n",
       "9   2013\n",
       "10  2012\n",
       "11  2011\n",
       "12  2010\n",
       "13  2009\n",
       "14  2008\n",
       "15  2007\n",
       "16  2006\n",
       "17  2005\n",
       "18  2004\n",
       "19  2003\n",
       "20  2002\n",
       "21  2001\n",
       "22  2000"
      ]
     },
     "execution_count": 73,
     "metadata": {},
     "output_type": "execute_result"
    }
   ],
   "source": [
    "import pandas as pd\n",
    "df = pd.DataFrame(search2[1:], columns=['Year'])\n",
    "df"
   ]
  },
  {
   "cell_type": "code",
   "execution_count": 75,
   "id": "f4c8a547",
   "metadata": {},
   "outputs": [],
   "source": [
    "df.to_csv('test_crawler.csv')"
   ]
  }
 ],
 "metadata": {
  "kernelspec": {
   "display_name": "Python 3 (ipykernel)",
   "language": "python",
   "name": "python3"
  },
  "language_info": {
   "codemirror_mode": {
    "name": "ipython",
    "version": 3
   },
   "file_extension": ".py",
   "mimetype": "text/x-python",
   "name": "python",
   "nbconvert_exporter": "python",
   "pygments_lexer": "ipython3",
   "version": "3.9.12"
  }
 },
 "nbformat": 4,
 "nbformat_minor": 5
}
